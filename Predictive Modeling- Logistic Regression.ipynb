{
 "cells": [
  {
   "cell_type": "code",
   "execution_count": 30,
   "metadata": {},
   "outputs": [
    {
     "name": "stdout",
     "output_type": "stream",
     "text": [
      "\n",
      "--- Classification Report ---\n",
      "\n",
      "              precision    recall  f1-score   support\n",
      "\n",
      "           0       0.49      0.42      0.45      1012\n",
      "           1       0.48      0.55      0.52       989\n",
      "\n",
      "   micro avg       0.49      0.49      0.49      2001\n",
      "   macro avg       0.49      0.49      0.48      2001\n",
      "weighted avg       0.49      0.49      0.48      2001\n",
      "\n",
      "\n",
      "--- ROC AUC Score ---\n",
      "0.4749207687727053\n",
      "\n",
      "✅ CSV exported: 'return_risk_predictions.csv'\n"
     ]
    },
    {
     "name": "stderr",
     "output_type": "stream",
     "text": [
      "C:\\Users\\Linus\\Anaconda3\\lib\\site-packages\\sklearn\\linear_model\\logistic.py:433: FutureWarning: Default solver will be changed to 'lbfgs' in 0.22. Specify a solver to silence this warning.\n",
      "  FutureWarning)\n"
     ]
    }
   ],
   "source": [
    "import pandas as pd\n",
    "from sklearn.model_selection import train_test_split\n",
    "from sklearn.pipeline import Pipeline\n",
    "from sklearn.preprocessing import OneHotEncoder\n",
    "from sklearn.compose import ColumnTransformer\n",
    "from sklearn.impute import SimpleImputer\n",
    "from sklearn.linear_model import LogisticRegression\n",
    "from sklearn.metrics import classification_report, roc_auc_score\n",
    "\n",
    "# === LOAD DATASET ===\n",
    "df = pd.read_csv('ecommerce_returns_with_return_rates.csv')\n",
    "\n",
    "# === FEATURES AND TARGET ===\n",
    "features = [\n",
    "    'Price', 'Order_Quantity', 'Discount_Applied',\n",
    "    'User_Age', 'User_Gender', 'User_Location',\n",
    "    'Shipping_Method', 'Payment_Method', 'Product_Category'\n",
    "]\n",
    "target = 'Is_Returned'\n",
    "\n",
    "# === CHECK COLUMNS EXIST ===\n",
    "missing_cols = [col for col in features + [target] if col not in df.columns]\n",
    "if missing_cols:\n",
    "    raise ValueError(f\"Missing columns: {missing_cols}\")\n",
    "\n",
    "# === HANDLE TARGET FIRST (Ensure it's clean) ===\n",
    "df = df[df[target].notnull()]\n",
    "if df[target].dtype == object:\n",
    "    df[target] = df[target].map({'Yes': 1, 'No': 0})  # Optional, if needed\n",
    "\n",
    "# === DEFINE CATEGORICAL & NUMERIC COLUMNS ===\n",
    "categorical_features = ['User_Gender', 'User_Location', 'Shipping_Method', 'Payment_Method', 'Product_Category']\n",
    "numerical_features = ['Price', 'Order_Quantity', 'Discount_Applied', 'User_Age']\n",
    "\n",
    "# === DEFINE PREPROCESSORS ===\n",
    "categorical_transformer = Pipeline(steps=[\n",
    "    ('imputer', SimpleImputer(strategy='most_frequent')),\n",
    "    ('encoder', OneHotEncoder(handle_unknown='ignore'))\n",
    "])\n",
    "\n",
    "numerical_transformer = Pipeline(steps=[\n",
    "    ('imputer', SimpleImputer(strategy='mean'))  # Fills missing with mean\n",
    "])\n",
    "\n",
    "preprocessor = ColumnTransformer(transformers=[\n",
    "    ('cat', categorical_transformer, categorical_features),\n",
    "    ('num', numerical_transformer, numerical_features)\n",
    "])\n",
    "\n",
    "# === DEFINE PIPELINE ===\n",
    "pipeline = Pipeline(steps=[\n",
    "    ('preprocessor', preprocessor),\n",
    "    ('classifier', LogisticRegression(max_iter=1000))\n",
    "])\n",
    "\n",
    "# === SPLIT DATA ===\n",
    "X = df[features]\n",
    "y = df[target]\n",
    "X_train, X_test, y_train, y_test = train_test_split(X, y, test_size=0.2, random_state=42)\n",
    "\n",
    "# === TRAIN MODEL ===\n",
    "pipeline.fit(X_train, y_train)\n",
    "\n",
    "# === PREDICT & EVALUATE ===\n",
    "y_pred = pipeline.predict(X_test)\n",
    "y_proba = pipeline.predict_proba(X_test)[:, 1]\n",
    "\n",
    "print(\"\\n--- Classification Report ---\\n\")\n",
    "print(classification_report(y_test, y_pred))\n",
    "\n",
    "print(\"\\n--- ROC AUC Score ---\")\n",
    "print(roc_auc_score(y_test, y_proba))\n",
    "\n",
    "# === EXPORT PREDICTIONS ===\n",
    "risk_df = X_test.copy()\n",
    "risk_df['Predicted_Probability'] = y_proba\n",
    "risk_df['Predicted_Return'] = y_pred\n",
    "risk_df['Actual_Return'] = y_test.reset_index(drop=True)\n",
    "\n",
    "risk_df.to_csv('return_risk_predictions.csv', index=False)\n",
    "print(\"\\n✅ CSV exported: 'return_risk_predictions.csv'\")\n"
   ]
  },
  {
   "cell_type": "code",
   "execution_count": 25,
   "metadata": {},
   "outputs": [],
   "source": [
    "from sklearn.ensemble import RandomForestClassifier\n",
    "pipeline.steps[-1] = ('classifier', RandomForestClassifier(random_state=42))\n"
   ]
  },
  {
   "cell_type": "code",
   "execution_count": 22,
   "metadata": {
    "scrolled": true
   },
   "outputs": [
    {
     "name": "stdout",
     "output_type": "stream",
     "text": [
      "1    0.505199\n",
      "0    0.494801\n",
      "Name: Is_Returned, dtype: float64\n"
     ]
    }
   ],
   "source": [
    "print(df['Is_Returned'].value_counts(normalize=True))\n"
   ]
  },
  {
   "cell_type": "code",
   "execution_count": 24,
   "metadata": {},
   "outputs": [],
   "source": [
    "import warnings\n",
    "warnings.filterwarnings(\"ignore\", category=DeprecationWarning)\n"
   ]
  },
  {
   "cell_type": "code",
   "execution_count": 28,
   "metadata": {},
   "outputs": [
    {
     "data": {
      "text/plain": [
       "LogisticRegression(C=1.0, class_weight=None, dual=False, fit_intercept=True,\n",
       "          intercept_scaling=1, max_iter=1000, multi_class='warn',\n",
       "          n_jobs=None, penalty='l2', random_state=None, solver='liblinear',\n",
       "          tol=0.0001, verbose=0, warm_start=False)"
      ]
     },
     "execution_count": 28,
     "metadata": {},
     "output_type": "execute_result"
    }
   ],
   "source": [
    "from sklearn.linear_model import LogisticRegression\n",
    "\n",
    "LogisticRegression(max_iter=1000, solver='liblinear')  # good for small/medium datasets\n"
   ]
  },
  {
   "cell_type": "code",
   "execution_count": 29,
   "metadata": {},
   "outputs": [
    {
     "data": {
      "text/plain": [
       "LogisticRegression(C=1.0, class_weight=None, dual=False, fit_intercept=True,\n",
       "          intercept_scaling=1, max_iter=1000, multi_class='warn',\n",
       "          n_jobs=None, penalty='l2', random_state=None, solver='lbfgs',\n",
       "          tol=0.0001, verbose=0, warm_start=False)"
      ]
     },
     "execution_count": 29,
     "metadata": {},
     "output_type": "execute_result"
    }
   ],
   "source": [
    "LogisticRegression(max_iter=1000, solver='lbfgs')\n"
   ]
  }
 ],
 "metadata": {
  "kernelspec": {
   "display_name": "Python 3",
   "language": "python",
   "name": "python3"
  },
  "language_info": {
   "codemirror_mode": {
    "name": "ipython",
    "version": 3
   },
   "file_extension": ".py",
   "mimetype": "text/x-python",
   "name": "python",
   "nbconvert_exporter": "python",
   "pygments_lexer": "ipython3",
   "version": "3.7.3"
  }
 },
 "nbformat": 4,
 "nbformat_minor": 2
}
