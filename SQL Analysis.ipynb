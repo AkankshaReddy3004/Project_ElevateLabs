{
 "cells": [
  {
   "cell_type": "code",
   "execution_count": 2,
   "metadata": {},
   "outputs": [
    {
     "name": "stdout",
     "output_type": "stream",
     "text": [
      "  Product_Category  Total_Returns\n",
      "0         Clothing           1049\n",
      "1            Books           1034\n",
      "2      Electronics           1012\n",
      "3             Home            995\n",
      "4             Toys            963\n"
     ]
    }
   ],
   "source": [
    "import pandas as pd\n",
    "import sqlite3\n",
    "\n",
    "# Load your dataset\n",
    "df = pd.read_csv(\"ecommerce_returns_with_return_rates.csv\")\n",
    "\n",
    "# Create SQLite connection (in-memory or to a file)\n",
    "conn = sqlite3.connect(\"returns.db\")\n",
    "\n",
    "# Store DataFrame as a SQL table\n",
    "df.to_sql(\"returns_data\", conn, if_exists=\"replace\", index=False)\n",
    "\n",
    "# Example SQL query\n",
    "query = \"SELECT Product_Category, COUNT(*) as Total_Returns FROM returns_data WHERE Is_Returned = 1 GROUP BY Product_Category ORDER BY Total_Returns DESC\"\n",
    "result = pd.read_sql(query, conn)\n",
    "print(result)\n"
   ]
  },
  {
   "cell_type": "code",
   "execution_count": null,
   "metadata": {},
   "outputs": [],
   "source": []
  }
 ],
 "metadata": {
  "kernelspec": {
   "display_name": "Python 3",
   "language": "python",
   "name": "python3"
  },
  "language_info": {
   "codemirror_mode": {
    "name": "ipython",
    "version": 3
   },
   "file_extension": ".py",
   "mimetype": "text/x-python",
   "name": "python",
   "nbconvert_exporter": "python",
   "pygments_lexer": "ipython3",
   "version": "3.7.3"
  }
 },
 "nbformat": 4,
 "nbformat_minor": 2
}
